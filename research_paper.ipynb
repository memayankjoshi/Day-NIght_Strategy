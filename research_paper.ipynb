{
 "cells": [
  {
   "cell_type": "markdown",
   "metadata": {
    "id": "RoERvRkqNn7c"
   },
   "source": [
    "#Implementing Paper\n",
    "[Return Differences between Trading and Non-trading Hours: Like Night and Day](https://papers.ssrn.com/sol3/papers.cfm?abstract_id=1004081)\n",
    "\n",
    "Comparing Day and Night strategy"
   ]
  },
  {
   "cell_type": "markdown",
   "metadata": {
    "id": "lvmsuI4wN6XN"
   },
   "source": [
    "##Idea\n"
   ]
  },
  {
   "cell_type": "markdown",
   "metadata": {
    "id": "7zZyC-2ZofVu"
   },
   "source": [
    "Night Strategy\n",
    "\n",
    "\n",
    "*   Buy at market close\n",
    "\n",
    "*   Sell at the next day's open\n",
    "\n",
    "*   Captures overnight return using:\n",
    "\n",
    "\n",
    "```python\n",
    "# Return = (Next Day's Open / Today's Close) - 1\n",
    "df[\"Return\"] = df[\"Open\"] / df[\"Close\"].shift(1) - 1\n",
    "\n",
    "```\n",
    "\n",
    "Day Strategy\n",
    "\n",
    "\n",
    "*   Buy at market open\n",
    "\n",
    "*   Sell at the same day's close\n",
    "\n",
    "*   Captures day return using:\n",
    "\n",
    "\n",
    "```python\n",
    "# Return = (Today's Close / Today's Open) - 1\n",
    "df[\"Return\"] = df[\"Close\"] / df[\"Open\"] - 1\n",
    "\n",
    "```\n",
    "\n",
    "\n"
   ]
  },
  {
   "cell_type": "markdown",
   "metadata": {
    "id": "7CNGSkYJng2W"
   },
   "source": [
    "##Code"
   ]
  },
  {
   "cell_type": "markdown",
   "metadata": {
    "id": "A5W14v2BnskC"
   },
   "source": [
    "###Importing libraries"
   ]
  },
  {
   "cell_type": "code",
   "execution_count": 3,
   "metadata": {
    "id": "Tky8OOwNnr6p"
   },
   "outputs": [],
   "source": [
    "import yfinance as yf\n",
    "import pandas as pd\n",
    "import numpy as np\n",
    "import matplotlib.pyplot as plt\n",
    "# from ipywidgets import interact, widgets\n",
    "# from IPython.display import display\n",
    "plt.style.use(['dark_background'])"
   ]
  },
  {
   "cell_type": "markdown",
   "metadata": {
    "id": "ARMmB6R-n4S_"
   },
   "source": [
    "###Downloading data for Apple , Amazon and NIFTY50\n",
    "\n",
    "---\n",
    "\n"
   ]
  },
  {
   "cell_type": "code",
   "execution_count": 4,
   "metadata": {
    "id": "AZ4JE22voGh9"
   },
   "outputs": [
    {
     "name": "stdout",
     "output_type": "stream",
     "text": [
      "YF.download() has changed argument auto_adjust default to True\n"
     ]
    }
   ],
   "source": [
    "start = '2010-01-01'\n",
    "end = '2023-12-31'\n",
    "\n",
    "# Nifty\n",
    "\n",
    "df = yf.download(\"^NSEI\", start= start , end= end , progress=False)\n",
    "df.dropna(inplace=True)\n",
    "\n",
    "# Adding Return column\n",
    "\n",
    "df['Night Return'] = df['Open'].shift(-1) / df['Close'] - 1\n",
    "df['Day Return'] = df[\"Close\"] / df[\"Open\"] - 1\n",
    "\n",
    "# Cumulative\n",
    "\n",
    "df[\"Night_Cum\"] = (1 + df[\"Night Return\"]).cumprod()\n",
    "df[\"Day_Cum\"] = (1 + df[\"Day Return\"]).cumprod()\n",
    "\n",
    "# Apple and Amazon\n",
    "\n",
    "stocks = ['AAPL', 'AMZN']\n",
    "\n",
    "\n",
    "data = {}\n",
    "for ticker in stocks:\n",
    "    df_1 = yf.download(ticker, start=start, end=end , progress=False)\n",
    "    df_1['Night Return'] = df_1['Open'].shift(-1) / df_1['Close'] - 1\n",
    "    df_1['Day Return'] = df_1[\"Close\"] / df_1[\"Open\"] - 1\n",
    "    # Cumulative\n",
    "    df_1[\"Night_Cum\"] = (1 + df_1[\"Night Return\"]).cumprod()\n",
    "    df_1[\"Day_Cum\"] = (1 + df_1[\"Day Return\"]).cumprod()\n",
    "    data[ticker] = df_1"
   ]
  },
  {
   "cell_type": "code",
   "execution_count": 5,
   "metadata": {
    "colab": {
     "base_uri": "https://localhost:8080/",
     "height": 269
    },
    "id": "ka1zsebvrKG-",
    "outputId": "d8f1df48-ca59-4233-c949-f81863d9effc"
   },
   "outputs": [
    {
     "data": {
      "text/html": [
       "<div>\n",
       "<style scoped>\n",
       "    .dataframe tbody tr th:only-of-type {\n",
       "        vertical-align: middle;\n",
       "    }\n",
       "\n",
       "    .dataframe tbody tr th {\n",
       "        vertical-align: top;\n",
       "    }\n",
       "\n",
       "    .dataframe thead tr th {\n",
       "        text-align: left;\n",
       "    }\n",
       "\n",
       "    .dataframe thead tr:last-of-type th {\n",
       "        text-align: right;\n",
       "    }\n",
       "</style>\n",
       "<table border=\"1\" class=\"dataframe\">\n",
       "  <thead>\n",
       "    <tr>\n",
       "      <th>Price</th>\n",
       "      <th>Close</th>\n",
       "      <th>High</th>\n",
       "      <th>Low</th>\n",
       "      <th>Open</th>\n",
       "      <th>Volume</th>\n",
       "      <th>Night Return</th>\n",
       "      <th>Day Return</th>\n",
       "      <th>Night_Cum</th>\n",
       "      <th>Day_Cum</th>\n",
       "    </tr>\n",
       "    <tr>\n",
       "      <th>Ticker</th>\n",
       "      <th>^NSEI</th>\n",
       "      <th>^NSEI</th>\n",
       "      <th>^NSEI</th>\n",
       "      <th>^NSEI</th>\n",
       "      <th>^NSEI</th>\n",
       "      <th></th>\n",
       "      <th></th>\n",
       "      <th></th>\n",
       "      <th></th>\n",
       "    </tr>\n",
       "    <tr>\n",
       "      <th>Date</th>\n",
       "      <th></th>\n",
       "      <th></th>\n",
       "      <th></th>\n",
       "      <th></th>\n",
       "      <th></th>\n",
       "      <th></th>\n",
       "      <th></th>\n",
       "      <th></th>\n",
       "      <th></th>\n",
       "    </tr>\n",
       "  </thead>\n",
       "  <tbody>\n",
       "    <tr>\n",
       "      <th>2010-01-04</th>\n",
       "      <td>5232.200195</td>\n",
       "      <td>5238.450195</td>\n",
       "      <td>5167.100098</td>\n",
       "      <td>5200.899902</td>\n",
       "      <td>0</td>\n",
       "      <td>0.008591</td>\n",
       "      <td>0.006018</td>\n",
       "      <td>1.008591</td>\n",
       "      <td>1.006018</td>\n",
       "    </tr>\n",
       "    <tr>\n",
       "      <th>2010-01-05</th>\n",
       "      <td>5277.899902</td>\n",
       "      <td>5288.350098</td>\n",
       "      <td>5242.399902</td>\n",
       "      <td>5277.149902</td>\n",
       "      <td>0</td>\n",
       "      <td>0.000047</td>\n",
       "      <td>0.000142</td>\n",
       "      <td>1.008639</td>\n",
       "      <td>1.006161</td>\n",
       "    </tr>\n",
       "    <tr>\n",
       "      <th>2010-01-06</th>\n",
       "      <td>5281.799805</td>\n",
       "      <td>5310.850098</td>\n",
       "      <td>5260.049805</td>\n",
       "      <td>5278.149902</td>\n",
       "      <td>0</td>\n",
       "      <td>0.000000</td>\n",
       "      <td>0.000692</td>\n",
       "      <td>1.008639</td>\n",
       "      <td>1.006857</td>\n",
       "    </tr>\n",
       "    <tr>\n",
       "      <th>2010-01-07</th>\n",
       "      <td>5263.100098</td>\n",
       "      <td>5302.549805</td>\n",
       "      <td>5244.750000</td>\n",
       "      <td>5281.799805</td>\n",
       "      <td>0</td>\n",
       "      <td>0.000218</td>\n",
       "      <td>-0.003540</td>\n",
       "      <td>1.008859</td>\n",
       "      <td>1.003292</td>\n",
       "    </tr>\n",
       "    <tr>\n",
       "      <th>2010-01-08</th>\n",
       "      <td>5244.750000</td>\n",
       "      <td>5276.750000</td>\n",
       "      <td>5234.700195</td>\n",
       "      <td>5264.250000</td>\n",
       "      <td>0</td>\n",
       "      <td>0.003632</td>\n",
       "      <td>-0.003704</td>\n",
       "      <td>1.012523</td>\n",
       "      <td>0.999576</td>\n",
       "    </tr>\n",
       "  </tbody>\n",
       "</table>\n",
       "</div>"
      ],
      "text/plain": [
       "Price             Close         High          Low         Open Volume  \\\n",
       "Ticker            ^NSEI        ^NSEI        ^NSEI        ^NSEI  ^NSEI   \n",
       "Date                                                                    \n",
       "2010-01-04  5232.200195  5238.450195  5167.100098  5200.899902      0   \n",
       "2010-01-05  5277.899902  5288.350098  5242.399902  5277.149902      0   \n",
       "2010-01-06  5281.799805  5310.850098  5260.049805  5278.149902      0   \n",
       "2010-01-07  5263.100098  5302.549805  5244.750000  5281.799805      0   \n",
       "2010-01-08  5244.750000  5276.750000  5234.700195  5264.250000      0   \n",
       "\n",
       "Price      Night Return Day Return Night_Cum   Day_Cum  \n",
       "Ticker                                                  \n",
       "Date                                                    \n",
       "2010-01-04     0.008591   0.006018  1.008591  1.006018  \n",
       "2010-01-05     0.000047   0.000142  1.008639  1.006161  \n",
       "2010-01-06     0.000000   0.000692  1.008639  1.006857  \n",
       "2010-01-07     0.000218  -0.003540  1.008859  1.003292  \n",
       "2010-01-08     0.003632  -0.003704  1.012523  0.999576  "
      ]
     },
     "execution_count": 5,
     "metadata": {},
     "output_type": "execute_result"
    }
   ],
   "source": [
    "df.head()"
   ]
  },
  {
   "cell_type": "code",
   "execution_count": 6,
   "metadata": {
    "colab": {
     "base_uri": "https://localhost:8080/",
     "height": 269
    },
    "id": "W2zDwrUarP9U",
    "outputId": "6a2aac03-372b-41c2-e0a4-df1179088f69"
   },
   "outputs": [
    {
     "data": {
      "text/html": [
       "<div>\n",
       "<style scoped>\n",
       "    .dataframe tbody tr th:only-of-type {\n",
       "        vertical-align: middle;\n",
       "    }\n",
       "\n",
       "    .dataframe tbody tr th {\n",
       "        vertical-align: top;\n",
       "    }\n",
       "\n",
       "    .dataframe thead tr th {\n",
       "        text-align: left;\n",
       "    }\n",
       "\n",
       "    .dataframe thead tr:last-of-type th {\n",
       "        text-align: right;\n",
       "    }\n",
       "</style>\n",
       "<table border=\"1\" class=\"dataframe\">\n",
       "  <thead>\n",
       "    <tr>\n",
       "      <th>Price</th>\n",
       "      <th>Close</th>\n",
       "      <th>High</th>\n",
       "      <th>Low</th>\n",
       "      <th>Open</th>\n",
       "      <th>Volume</th>\n",
       "      <th>Night Return</th>\n",
       "      <th>Day Return</th>\n",
       "      <th>Night_Cum</th>\n",
       "      <th>Day_Cum</th>\n",
       "    </tr>\n",
       "    <tr>\n",
       "      <th>Ticker</th>\n",
       "      <th>AMZN</th>\n",
       "      <th>AMZN</th>\n",
       "      <th>AMZN</th>\n",
       "      <th>AMZN</th>\n",
       "      <th>AMZN</th>\n",
       "      <th></th>\n",
       "      <th></th>\n",
       "      <th></th>\n",
       "      <th></th>\n",
       "    </tr>\n",
       "    <tr>\n",
       "      <th>Date</th>\n",
       "      <th></th>\n",
       "      <th></th>\n",
       "      <th></th>\n",
       "      <th></th>\n",
       "      <th></th>\n",
       "      <th></th>\n",
       "      <th></th>\n",
       "      <th></th>\n",
       "      <th></th>\n",
       "    </tr>\n",
       "  </thead>\n",
       "  <tbody>\n",
       "    <tr>\n",
       "      <th>2010-01-04</th>\n",
       "      <td>6.6950</td>\n",
       "      <td>6.8305</td>\n",
       "      <td>6.6570</td>\n",
       "      <td>6.8125</td>\n",
       "      <td>151998000</td>\n",
       "      <td>-0.003510</td>\n",
       "      <td>-0.017248</td>\n",
       "      <td>0.996490</td>\n",
       "      <td>0.982752</td>\n",
       "    </tr>\n",
       "    <tr>\n",
       "      <th>2010-01-05</th>\n",
       "      <td>6.7345</td>\n",
       "      <td>6.7740</td>\n",
       "      <td>6.5905</td>\n",
       "      <td>6.6715</td>\n",
       "      <td>177038000</td>\n",
       "      <td>-0.000668</td>\n",
       "      <td>0.009443</td>\n",
       "      <td>0.995824</td>\n",
       "      <td>0.992033</td>\n",
       "    </tr>\n",
       "    <tr>\n",
       "      <th>2010-01-06</th>\n",
       "      <td>6.6125</td>\n",
       "      <td>6.7365</td>\n",
       "      <td>6.5825</td>\n",
       "      <td>6.7300</td>\n",
       "      <td>143576000</td>\n",
       "      <td>-0.001815</td>\n",
       "      <td>-0.017459</td>\n",
       "      <td>0.994017</td>\n",
       "      <td>0.974713</td>\n",
       "    </tr>\n",
       "    <tr>\n",
       "      <th>2010-01-07</th>\n",
       "      <td>6.5000</td>\n",
       "      <td>6.6160</td>\n",
       "      <td>6.4400</td>\n",
       "      <td>6.6005</td>\n",
       "      <td>220604000</td>\n",
       "      <td>0.004308</td>\n",
       "      <td>-0.015226</td>\n",
       "      <td>0.998299</td>\n",
       "      <td>0.959871</td>\n",
       "    </tr>\n",
       "    <tr>\n",
       "      <th>2010-01-08</th>\n",
       "      <td>6.6760</td>\n",
       "      <td>6.6840</td>\n",
       "      <td>6.4515</td>\n",
       "      <td>6.5280</td>\n",
       "      <td>196610000</td>\n",
       "      <td>-0.006741</td>\n",
       "      <td>0.022672</td>\n",
       "      <td>0.991570</td>\n",
       "      <td>0.981633</td>\n",
       "    </tr>\n",
       "  </tbody>\n",
       "</table>\n",
       "</div>"
      ],
      "text/plain": [
       "Price        Close    High     Low    Open     Volume Night Return Day Return  \\\n",
       "Ticker        AMZN    AMZN    AMZN    AMZN       AMZN                           \n",
       "Date                                                                            \n",
       "2010-01-04  6.6950  6.8305  6.6570  6.8125  151998000    -0.003510  -0.017248   \n",
       "2010-01-05  6.7345  6.7740  6.5905  6.6715  177038000    -0.000668   0.009443   \n",
       "2010-01-06  6.6125  6.7365  6.5825  6.7300  143576000    -0.001815  -0.017459   \n",
       "2010-01-07  6.5000  6.6160  6.4400  6.6005  220604000     0.004308  -0.015226   \n",
       "2010-01-08  6.6760  6.6840  6.4515  6.5280  196610000    -0.006741   0.022672   \n",
       "\n",
       "Price      Night_Cum   Day_Cum  \n",
       "Ticker                          \n",
       "Date                            \n",
       "2010-01-04  0.996490  0.982752  \n",
       "2010-01-05  0.995824  0.992033  \n",
       "2010-01-06  0.994017  0.974713  \n",
       "2010-01-07  0.998299  0.959871  \n",
       "2010-01-08  0.991570  0.981633  "
      ]
     },
     "execution_count": 6,
     "metadata": {},
     "output_type": "execute_result"
    }
   ],
   "source": [
    "df_1.head()"
   ]
  },
  {
   "cell_type": "markdown",
   "metadata": {
    "id": "gyyUeuO3qwAD"
   },
   "source": [
    "###Sharpe and Plot for Apple+Amazon in any proportion\n",
    "\n",
    "\n"
   ]
  },
  {
   "cell_type": "markdown",
   "metadata": {
    "id": "Gj_VIdxFudO7"
   },
   "source": [
    "**What is Sharpe ratio?**\n",
    "\n",
    "\n",
    "The Sharpe Ratio is a popular metric used to evaluate the risk-adjusted return of an investment or trading strategy.\n",
    "It tells you how much excess return you're getting per unit of risk.\n"
   ]
  },
  {
   "cell_type": "code",
   "execution_count": 7,
   "metadata": {
    "id": "Vrze9Hqaytku"
   },
   "outputs": [],
   "source": [
    "def sharpe(returns):\n",
    "    mean = returns.mean() * 252\n",
    "    volatility = returns.std() * np.sqrt(252)\n",
    "    sharpe = mean / volatility\n",
    "    return round(sharpe, 4)"
   ]
  },
  {
   "cell_type": "markdown",
   "metadata": {
    "id": "pEGoSe7ctDU-"
   },
   "source": [
    "Give desired ratio as input i.e. 0.75 of Apple"
   ]
  },
  {
   "cell_type": "code",
   "execution_count": 8,
   "metadata": {
    "colab": {
     "base_uri": "https://localhost:8080/",
     "height": 67,
     "referenced_widgets": [
      "15e33a810ca94966ac19cde7db33fc64",
      "cb349ae09c1e4d30b0000a5c82ac0fb0",
      "b53afac9c13a48f69f46b878ca28c912",
      "dcbcf6c34ab04bd3977b2b5feead4bb4",
      "bb053dd8eee94c89a09ec15dbf683f6a",
      "c51b541ec391494c8b1849d719aa3184",
      "bd21c93e6a01406fa33405a358ee960b"
     ]
    },
    "id": "tbYSwTI1rYvz",
    "outputId": "8e1496ab-808b-488d-b912-c0e69842c19d"
   },
   "outputs": [],
   "source": [
    "ratio = 0.5  # Initial ratio value\n",
    "\n",
    "# @interact(number=(0, 1,0.01))\n",
    "# def get_ratio(number):\n",
    "#     global ratio\n",
    "#     ratio = number\n",
    "#     print(f\"Ratio stored: {ratio}\")\n"
   ]
  },
  {
   "cell_type": "markdown",
   "metadata": {
    "id": "bm4jPUaBtRm5"
   },
   "source": [
    "Code for getting Sharpe and plot for the given input ratio"
   ]
  },
  {
   "cell_type": "code",
   "execution_count": 9,
   "metadata": {
    "id": "kwsmRJ6awGcf"
   },
   "outputs": [],
   "source": [
    "# Changing Night Return according to the input ratio\n",
    "Night = pd.DataFrame({\n",
    "    'AAPL': data['AAPL']['Night Return']*ratio,\n",
    "    'AMZN': data['AMZN']['Night Return']*(1-ratio),\n",
    "})\n",
    "\n",
    "Night['Strategy_1'] = Night.mean(axis=1)\n",
    "Night['Night_Cum'] = (1 + Night['Strategy_1']).cumprod() # new cumulative for given ratio"
   ]
  },
  {
   "cell_type": "code",
   "execution_count": 10,
   "metadata": {
    "id": "kBXwr1UjwG-n"
   },
   "outputs": [],
   "source": [
    "# Changing Day Return according to the input ratio\n",
    "Day = pd.DataFrame({\n",
    "    'AAPL': data['AAPL']['Day Return']*ratio,\n",
    "    'AMZN': data['AMZN']['Day Return']*(1-ratio),\n",
    "})\n",
    "\n",
    "Day['Strategy_2'] = Day.mean(axis=1)\n",
    "Day['Day_Cum'] = (1 + Day['Strategy_2']).cumprod() # new cumulative for given ratio"
   ]
  },
  {
   "cell_type": "code",
   "execution_count": 11,
   "metadata": {
    "colab": {
     "base_uri": "https://localhost:8080/",
     "height": 410
    },
    "id": "VOARC7ojq2tf",
    "outputId": "e9b2f971-5b6a-46b3-eca5-22c31dbf3769"
   },
   "outputs": [
    {
     "data": {
      "image/png": "[encoded data removed]",
      "text/plain": [
       "<Figure size 800x400 with 1 Axes>"
      ]
     },
     "metadata": {},
     "output_type": "display_data"
    }
   ],
   "source": [
    "# Plotting Returns\n",
    "\n",
    "plt.figure(figsize=(8, 4))\n",
    "plt.plot(Night['Night_Cum'], label='Night Strategy')\n",
    "plt.plot(Day['Day_Cum'], label='Day Strategy')\n",
    "plt.title(f'Comparing Night and Day Strategy (AAPL + AMZN) at {ratio} ratio Apple')\n",
    "plt.xlabel('Year')\n",
    "plt.ylabel('Cumulative Return')\n",
    "plt.legend()\n",
    "# plt.grid(True)\n",
    "plt.show()"
   ]
  },
  {
   "cell_type": "code",
   "execution_count": 12,
   "metadata": {
    "colab": {
     "base_uri": "https://localhost:8080/"
    },
    "id": "hBcMSkdYw54A",
    "outputId": "029243cd-c408-4eab-b04e-a39098ecbc6d"
   },
   "outputs": [
    {
     "name": "stdout",
     "output_type": "stream",
     "text": [
      "Sharpe Ratio: 1.2098\n",
      "Sharpe Ratio: 0.3611\n"
     ]
    }
   ],
   "source": [
    "# Calculate Sharpe Ratio (daily)\n",
    "# sharpe_ratio_night = (Night['Strategy_1'].mean() / Night['Strategy_1'].std()) * np.sqrt(252)\n",
    "sharpe_ratio_night = sharpe(Night['Strategy_1'])\n",
    "\n",
    "sharpe_ratio_day = sharpe(Day['Strategy_2'])\n",
    "\n",
    "print(f\"Sharpe Ratio: {sharpe_ratio_night}\")\n",
    "print(f\"Sharpe Ratio: {sharpe_ratio_day}\")"
   ]
  },
  {
   "cell_type": "markdown",
   "metadata": {
    "id": "UsLvxO2CmnU4"
   },
   "source": [
    "###Checking the strategy for NIFTY50\n",
    "Comparing the strategy to Indian Market"
   ]
  },
  {
   "cell_type": "code",
   "execution_count": 13,
   "metadata": {
    "colab": {
     "base_uri": "https://localhost:8080/",
     "height": 407
    },
    "id": "J2G5Uu5ixoPy",
    "outputId": "5f3497ae-4c14-47eb-c94d-5c11afdadb34"
   },
   "outputs": [
    {
     "data": {
      "image/png": "[encoded data removed]",
      "text/plain": [
       "<Figure size 800x400 with 1 Axes>"
      ]
     },
     "metadata": {},
     "output_type": "display_data"
    }
   ],
   "source": [
    "# Plot\n",
    "plt.figure(figsize=(8, 4))\n",
    "plt.plot(df.index, df[\"Night_Cum\"], label=\"Night (Close to Open)\")\n",
    "plt.plot(df.index, df[\"Day_Cum\"], label=\"Day (Open to Close)\")\n",
    "plt.title(\"Cumulative Returns: Night vs Day Strategy (NIFTY50)\")\n",
    "plt.xlabel(\"Year\")\n",
    "plt.ylabel(\"Cumulative Return\")\n",
    "plt.legend()\n",
    "# plt.grid(True)\n",
    "plt.tight_layout()\n",
    "plt.show()"
   ]
  },
  {
   "cell_type": "code",
   "execution_count": 14,
   "metadata": {
    "colab": {
     "base_uri": "https://localhost:8080/"
    },
    "id": "1cgmJdKsxjHS",
    "outputId": "318e2210-d7ae-40eb-b914-cd6a6d255ea8"
   },
   "outputs": [
    {
     "name": "stdout",
     "output_type": "stream",
     "text": [
      "Night Strategy:  2.945\n",
      "Day Strategy:  -1.1594\n"
     ]
    }
   ],
   "source": [
    "# Sharpe Ratio\n",
    "\n",
    "night_sharpe = sharpe(df[\"Night Return\"])\n",
    "day_sharpe = sharpe(df[\"Day Return\"])\n",
    "\n",
    "print(\"Night Strategy: \", night_sharpe)\n",
    "print(\"Day Strategy: \", day_sharpe)\n"
   ]
  }
 ],
 "metadata": {
  "colab": {
   "provenance": []
  },
  "kernelspec": {
   "display_name": "Python 3",
   "name": "python3"
  },
  "language_info": {
   "codemirror_mode": {
    "name": "ipython",
    "version": 3
   },
   "file_extension": ".py",
   "mimetype": "text/x-python",
   "name": "python",
   "nbconvert_exporter": "python",
   "pygments_lexer": "ipython3",
   "version": "3.12.10"
  }
 },
 "nbformat": 4,
 "nbformat_minor": 0
}
